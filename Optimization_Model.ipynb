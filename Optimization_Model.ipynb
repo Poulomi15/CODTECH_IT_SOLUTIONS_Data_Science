{
 "cells": [
  {
   "cell_type": "markdown",
   "metadata": {
    "id": "pd7vTvqiog6m"
   },
   "source": [
    "# Optimization Pulp (Optimizing Factories Productions)"
   ]
  },
  {
   "cell_type": "code",
   "execution_count": 1,
   "metadata": {
    "colab": {
     "base_uri": "https://localhost:8080/"
    },
    "id": "NGSJvBHSnGor",
    "outputId": "9ac4b285-f260-4197-985d-0e1abf2ea646"
   },
   "outputs": [
    {
     "name": "stdout",
     "output_type": "stream",
     "text": [
      "Collecting pulp\n",
      "  Downloading PuLP-3.0.2-py3-none-any.whl.metadata (6.7 kB)\n",
      "Downloading PuLP-3.0.2-py3-none-any.whl (17.7 MB)\n",
      "\u001b[2K   \u001b[90m━━━━━━━━━━━━━━━━━━━━━━━━━━━━━━━━━━━━━━━━\u001b[0m \u001b[32m17.7/17.7 MB\u001b[0m \u001b[31m38.9 MB/s\u001b[0m eta \u001b[36m0:00:00\u001b[0m\n",
      "\u001b[?25hInstalling collected packages: pulp\n",
      "Successfully installed pulp-3.0.2\n"
     ]
    }
   ],
   "source": [
    "!pip install pulp"
   ]
  },
  {
   "cell_type": "markdown",
   "metadata": {
    "id": "t1jru3yJpGXd"
   },
   "source": [
    "Importing dependencies"
   ]
  },
  {
   "cell_type": "code",
   "execution_count": 2,
   "metadata": {
    "id": "9Mf8ajOep4j6"
   },
   "outputs": [],
   "source": [
    "import pulp\n",
    "import pandas as pd"
   ]
  },
  {
   "cell_type": "markdown",
   "metadata": {
    "id": "SOvORNX-rKUf"
   },
   "source": [
    "## Define the problem(Maximization)"
   ]
  },
  {
   "cell_type": "code",
   "execution_count": 8,
   "metadata": {
    "id": "YQhp7n9GrNcn"
   },
   "outputs": [],
   "source": [
    "# Define the optimization problem\n",
    "prob = pulp.LpProblem(\"Maximize_Profit\", pulp.LpMaximize)"
   ]
  },
  {
   "cell_type": "code",
   "execution_count": 9,
   "metadata": {
    "id": "q4W4dNm6rXYW"
   },
   "outputs": [],
   "source": [
    "# Define decision variables\n",
    "A = pulp.LpVariable(\"Product_A\", lowBound=0, cat='Continuous')  # Number of units of Product A\n",
    "B = pulp.LpVariable(\"Product_B\", lowBound=0, cat='Continuous')  # Number of units of Product B"
   ]
  },
  {
   "cell_type": "code",
   "execution_count": 10,
   "metadata": {
    "id": "YojKpUAvrbfx"
   },
   "outputs": [],
   "source": [
    "# Define constants (profits and resource constraints)\n",
    "profit_A = 40\n",
    "profit_B = 30\n",
    "labor_A = 2\n",
    "labor_B = 1\n",
    "material_A = 3\n",
    "material_B = 2\n",
    "labor_limit = 100\n",
    "material_limit = 120"
   ]
  },
  {
   "cell_type": "code",
   "execution_count": 11,
   "metadata": {
    "id": "Un930s1mrhGy"
   },
   "outputs": [],
   "source": [
    "# Define the objective function (Maximizing Profit)\n",
    "prob += profit_A * A + profit_B * B, \"Total Profit\""
   ]
  },
  {
   "cell_type": "code",
   "execution_count": 12,
   "metadata": {
    "id": "-igGV3NYr2wn"
   },
   "outputs": [],
   "source": [
    "# Define Constraints\n",
    "prob += labor_A * A + labor_B * B <= labor_limit, \"Labor Constraint\"\n",
    "prob += material_A * A + material_B * B <= material_limit, \"Material Constraint\""
   ]
  },
  {
   "cell_type": "markdown",
   "metadata": {
    "id": "62O-Eejur6QU"
   },
   "source": [
    "## Solve the Problem"
   ]
  },
  {
   "cell_type": "code",
   "execution_count": 13,
   "metadata": {
    "colab": {
     "base_uri": "https://localhost:8080/"
    },
    "id": "ukJMUqcZsAka",
    "outputId": "0e64ea00-7c2f-40e5-f718-d959c0834735"
   },
   "outputs": [
    {
     "data": {
      "text/plain": [
       "1"
      ]
     },
     "execution_count": 13,
     "metadata": {},
     "output_type": "execute_result"
    }
   ],
   "source": [
    "# Solve the optimization problem\n",
    "prob.solve()"
   ]
  },
  {
   "cell_type": "code",
   "execution_count": 14,
   "metadata": {
    "id": "SN7AqhWysGoW"
   },
   "outputs": [],
   "source": [
    "# Store results in a structured format using pandas\n",
    "data = {\n",
    "    \"Variable\": [\"Product A\", \"Product B\", \"Total Profit\"],\n",
    "    \"Optimal Value\": [pulp.value(A), pulp.value(B), pulp.value(prob.objective)]\n",
    "}\n",
    "result_df = pd.DataFrame(data)"
   ]
  },
  {
   "cell_type": "markdown",
   "metadata": {
    "id": "hU2twXb1sJsQ"
   },
   "source": [
    "Result"
   ]
  },
  {
   "cell_type": "code",
   "execution_count": 15,
   "metadata": {
    "colab": {
     "base_uri": "https://localhost:8080/"
    },
    "id": "q8vEfyaUsLdD",
    "outputId": "a29e1054-6979-44c8-baea-dfea0085b348"
   },
   "outputs": [
    {
     "name": "stdout",
     "output_type": "stream",
     "text": [
      "Status: Optimal\n",
      "       Variable  Optimal Value\n",
      "0     Product A            0.0\n",
      "1     Product B           60.0\n",
      "2  Total Profit         1800.0\n"
     ]
    }
   ],
   "source": [
    "# Print results\n",
    "print(\"Status:\", pulp.LpStatus[prob.status])  # Show whether an optimal solution was found\n",
    "print(result_df)  # Display the results in a table format"
   ]
  }
 ],
 "metadata": {
  "colab": {
   "provenance": []
  },
  "kernelspec": {
   "display_name": "Python 3 (ipykernel)",
   "language": "python",
   "name": "python3"
  },
  "language_info": {
   "codemirror_mode": {
    "name": "ipython",
    "version": 3
   },
   "file_extension": ".py",
   "mimetype": "text/x-python",
   "name": "python",
   "nbconvert_exporter": "python",
   "pygments_lexer": "ipython3",
   "version": "3.12.4"
  }
 },
 "nbformat": 4,
 "nbformat_minor": 4
}
